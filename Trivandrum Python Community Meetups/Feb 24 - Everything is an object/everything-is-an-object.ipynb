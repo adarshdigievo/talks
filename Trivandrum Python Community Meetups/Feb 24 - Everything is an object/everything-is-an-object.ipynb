{
 "cells": [
  {
   "cell_type": "markdown",
   "id": "2ba15965-27f0-4eac-9852-57ad03581ee9",
   "metadata": {},
   "source": [
    "# Everything is an object\n",
    "\n",
    "## Definitions"
   ]
  },
  {
   "cell_type": "markdown",
   "id": "6d645858-269a-45d2-8699-1bc6b50a21e8",
   "metadata": {},
   "source": [
    "In OOP, an object is an instance of a class"
   ]
  },
  {
   "cell_type": "code",
   "execution_count": null,
   "id": "a220b5f3-1a35-4905-93d0-875df902a558",
   "metadata": {},
   "outputs": [],
   "source": [
    "class Book:\n",
    "    \n",
    "    def set_page_count(self, pages):\n",
    "        self.page_count = pages\n",
    "\n",
    "b = Book()\n",
    "b.name = \"Intro to Python\"\n",
    "b.set_page_count(300)"
   ]
  },
  {
   "cell_type": "markdown",
   "id": "3d459e9ffec52871",
   "metadata": {
    "collapsed": false
   },
   "source": [
    "From Python3 data model [docs](https://docs.python.org/3/reference/datamodel.html#objects-values-and-types):\n",
    "> Objects are Python’s abstraction for data. All data in a Python program is represented by objects or by relations between objects.\n",
    "\n",
    ">Every object has an identity, a type and a value."
   ]
  },
  {
   "cell_type": "markdown",
   "id": "d6e92bea69c7e114",
   "metadata": {
    "collapsed": false
   },
   "source": [
    "From Python3 [docs](https://docs.python.org/3/glossary.html#term-object):\n",
    "> object:\n",
    "> Any data with state (attributes or value) and defined behavior (methods). Also, the ultimate base class of any new-style class.\n"
   ]
  },
  {
   "cell_type": "markdown",
   "id": "a50ba8c4-541f-467e-928e-f1f795129cfd",
   "metadata": {},
   "source": [
    "![builtins](./builtins.png)"
   ]
  },
  {
   "cell_type": "code",
   "execution_count": null,
   "id": "fc89ff3f-e0e5-44b1-ade2-d0521210fea9",
   "metadata": {},
   "outputs": [],
   "source": [
    "import builtins\n",
    "builtins.__dict__"
   ]
  },
  {
   "cell_type": "markdown",
   "id": "620b1eee-fd08-4d03-9bd3-40215a9f0b37",
   "metadata": {},
   "source": [
    "## type and id"
   ]
  },
  {
   "cell_type": "markdown",
   "id": "7abb4e05-460d-495c-ab16-c9d0a2adafdb",
   "metadata": {},
   "source": [
    "type - reveals the class of the object\n",
    "\n",
    "type looks like a function (`type(x)`). Its actually a metaclass."
   ]
  },
  {
   "cell_type": "code",
   "execution_count": null,
   "id": "0dce0451-2088-4cbb-9ac1-794673eea41b",
   "metadata": {},
   "outputs": [],
   "source": [
    "print(type(b))"
   ]
  },
  {
   "cell_type": "code",
   "execution_count": null,
   "id": "9e8f3220-f81f-41ef-a89a-79d31e04b957",
   "metadata": {},
   "outputs": [],
   "source": [
    "print(id(b)) # CPython -> id points to the memory location"
   ]
  },
  {
   "cell_type": "code",
   "execution_count": null,
   "id": "cb81ac13-b264-45a8-a26f-d1ff04280b41",
   "metadata": {},
   "outputs": [],
   "source": [
    "def dummy():\n",
    "    pass\n",
    "\n",
    "print(type(dummy))\n",
    "print(id(dummy))"
   ]
  },
  {
   "cell_type": "markdown",
   "id": "10d01185-3fdb-4bb2-9f12-340936159cb1",
   "metadata": {},
   "source": [
    "## More objects"
   ]
  },
  {
   "cell_type": "code",
   "execution_count": null,
   "id": "4ba57263-18bc-413f-b590-6b3d6528062d",
   "metadata": {},
   "outputs": [],
   "source": [
    "a = 1\n",
    "print(type(a))"
   ]
  },
  {
   "cell_type": "raw",
   "id": "314c45ab-65c1-4b34-8e6d-60a1d9cbe175",
   "metadata": {},
   "source": [
    "variable a now points to an object/instance of class int"
   ]
  },
  {
   "cell_type": "code",
   "execution_count": null,
   "id": "c90eef71-74e9-4c31-818a-1302bd561ab9",
   "metadata": {},
   "outputs": [],
   "source": [
    "print(type(int))"
   ]
  },
  {
   "cell_type": "code",
   "execution_count": null,
   "id": "126ccfc0-f204-44fd-87ed-5dcacdc972da",
   "metadata": {},
   "outputs": [],
   "source": [
    "1 + 1"
   ]
  },
  {
   "cell_type": "code",
   "execution_count": null,
   "id": "ffdf8972-ed35-4684-bac5-526ac314e0c3",
   "metadata": {},
   "outputs": [],
   "source": [
    "(1).__add__(1)"
   ]
  },
  {
   "cell_type": "code",
   "execution_count": null,
   "id": "03a9a0bc-b2de-4f0c-bdd1-30e3797ade8a",
   "metadata": {},
   "outputs": [],
   "source": [
    "\"hello\".upper()"
   ]
  },
  {
   "cell_type": "code",
   "execution_count": null,
   "id": "dc2a5f2f-1cea-45f5-97ac-d41c5841c2bc",
   "metadata": {},
   "outputs": [],
   "source": [
    "print(type(b))\n",
    "print(type(Book))"
   ]
  },
  {
   "cell_type": "raw",
   "id": "bb8cf6ba-2ded-4eb4-bf9e-546a98442bed",
   "metadata": {},
   "source": [
    "The 'book' and 'int' classes are also objects. They both are instances of class `type`"
   ]
  },
  {
   "cell_type": "code",
   "execution_count": null,
   "id": "15048559-e4de-44fa-a218-aaf5a4799609",
   "metadata": {},
   "outputs": [],
   "source": [
    "print(type(type))"
   ]
  },
  {
   "cell_type": "raw",
   "id": "c5a5d824-e50d-48a4-9966-5e498fac347b",
   "metadata": {},
   "source": [
    "type of type is type. Now lets take a look at base class(es) of our Book class"
   ]
  },
  {
   "cell_type": "code",
   "execution_count": null,
   "id": "81066ede-4834-48d2-b8f3-f8f236719c49",
   "metadata": {},
   "outputs": [],
   "source": [
    "Book.__bases__"
   ]
  },
  {
   "cell_type": "raw",
   "id": "b7055858-ed1f-4588-9c5f-bf16163898f8",
   "metadata": {},
   "source": [
    "Every class is a child class of class `object`"
   ]
  },
  {
   "cell_type": "code",
   "execution_count": null,
   "id": "21018358-610c-4f33-8dd3-ec86d8066fd4",
   "metadata": {},
   "outputs": [],
   "source": [
    "int.__bases__"
   ]
  },
  {
   "cell_type": "markdown",
   "id": "10e6c1f0-dc91-4dce-878b-9b972117d6de",
   "metadata": {},
   "source": [
    "## isinstance checks"
   ]
  },
  {
   "cell_type": "raw",
   "id": "253ae469-a3a1-4b00-b52d-88d07ff7f3c6",
   "metadata": {},
   "source": [
    "everything is an object -> everything is an instance of some class\n",
    "\n",
    "In Python 3, `object` is the base of all classes -> \n",
    "\n",
    "everything is an instance of object"
   ]
  },
  {
   "cell_type": "raw",
   "id": "73cdb0ed-b243-4df2-9da1-3f58170aa91c",
   "metadata": {},
   "source": [
    "isinstance - similar to type() with support for inheritance heirarchies "
   ]
  },
  {
   "cell_type": "code",
   "execution_count": null,
   "id": "8c045b6d-2987-4659-a294-fd713111202d",
   "metadata": {},
   "outputs": [],
   "source": [
    "isinstance(b, Book)"
   ]
  },
  {
   "cell_type": "code",
   "execution_count": null,
   "id": "f2b926de-f59b-4103-8eb9-17a71c58257f",
   "metadata": {},
   "outputs": [],
   "source": [
    "# testing a normal object\n",
    "isinstance(b, object)"
   ]
  },
  {
   "cell_type": "code",
   "execution_count": null,
   "id": "709e1504-9482-49dd-bea9-ef6699293ee5",
   "metadata": {},
   "outputs": [],
   "source": [
    "# testing a class\n",
    "isinstance(Book, object)"
   ]
  },
  {
   "cell_type": "code",
   "execution_count": null,
   "id": "c81deec7-76d3-43a4-877a-dd824febd3a4",
   "metadata": {},
   "outputs": [],
   "source": [
    "# testing an integer\n",
    "number = 10\n",
    "isinstance(number, object)"
   ]
  },
  {
   "cell_type": "code",
   "execution_count": null,
   "id": "b0ba7e1b-9e61-4066-b5d9-bc3c417a310f",
   "metadata": {},
   "outputs": [],
   "source": [
    "# testing the class int itself\n",
    "isinstance(int, object)"
   ]
  },
  {
   "cell_type": "code",
   "execution_count": null,
   "id": "b13f1d30-fd81-44f4-8344-1f00c9637e19",
   "metadata": {},
   "outputs": [],
   "source": [
    "# lists\n",
    "l = [1, \"two\"]\n",
    "isinstance(l, object)"
   ]
  },
  {
   "cell_type": "code",
   "execution_count": null,
   "id": "55e2fae7-92d2-41aa-8c71-77598748b4bb",
   "metadata": {},
   "outputs": [],
   "source": [
    "# functions\n",
    "def dummy_function():\n",
    "     pass\n",
    "\n",
    "isinstance(dummy_function, object)"
   ]
  },
  {
   "cell_type": "code",
   "execution_count": null,
   "id": "2a0c1bea-9fd2-41af-b66c-102abbb45eab",
   "metadata": {},
   "outputs": [],
   "source": [
    "# testing isinstance itself\n",
    "isinstance(isinstance, object)"
   ]
  },
  {
   "cell_type": "code",
   "execution_count": null,
   "id": "df728c7a-5e5c-4cd4-99ad-fe49107fd9c5",
   "metadata": {},
   "outputs": [],
   "source": [
    "import sys\n",
    "try:\n",
    "     raise Exception()\n",
    "except Exception as e:\n",
    "     exc = e\n",
    "     traceback = sys.exc_info()[2]\n",
    "\n",
    "print(type(traceback))\n",
    "print(isinstance(traceback, object))\n",
    "print(type(exc))\n",
    "print(isinstance(exc, object))"
   ]
  },
  {
   "cell_type": "code",
   "execution_count": null,
   "id": "a6899ef8-9bec-4f2f-8c96-2b41a8ff906d",
   "metadata": {},
   "outputs": [],
   "source": [
    "# modules\n",
    "import math\n",
    "print(type(math))\n",
    "isinstance(math, object)"
   ]
  },
  {
   "cell_type": "code",
   "execution_count": null,
   "id": "90ef32e0-fd53-4bf3-9401-86234ccc681a",
   "metadata": {},
   "outputs": [],
   "source": [
    "import custom_module\n",
    "custom_module.say_hello()"
   ]
  },
  {
   "cell_type": "code",
   "execution_count": null,
   "id": "6a565208-3549-4c79-be77-993e40576e27",
   "metadata": {},
   "outputs": [],
   "source": [
    "print(type(custom_module))\n",
    "isinstance(custom_module, object)"
   ]
  },
  {
   "cell_type": "markdown",
   "id": "999eb27c-f9d4-4919-8da3-e7498cda664c",
   "metadata": {},
   "source": [
    "## Advantages\n",
    "- Can be assigned to variables\n",
    "- Can be passed around to functions\n",
    "- Can be patched at runtime (if mutable)\n",
    "- Eg: Powers things like Decorators "
   ]
  },
  {
   "cell_type": "markdown",
   "id": "88026f5c-a532-4a25-9596-1523eb316fba",
   "metadata": {},
   "source": [
    "## Passing around objects and some Pythonic tools for packaging objects"
   ]
  },
  {
   "cell_type": "code",
   "execution_count": null,
   "id": "944e68c4-ef5a-4932-b2e5-47bdcd509613",
   "metadata": {},
   "outputs": [],
   "source": [
    "def say_hello():\n",
    "    print('hello')\n",
    "\n",
    "\n",
    "class say_hai:\n",
    "    def __call__(self, *args, **kwargs):\n",
    "        print('hai')\n",
    "\n",
    "\n",
    "# a higher order function\n",
    "def caller(fn):\n",
    "    print(f\"calling {fn}\")\n",
    "    fn()\n",
    "\n",
    "\n",
    "function = say_hello\n",
    "caller(function)\n",
    "function = say_hai()\n",
    "caller(function)"
   ]
  },
  {
   "cell_type": "code",
   "execution_count": null,
   "id": "e7725f35-d046-4aab-9fed-d4d3e67620a0",
   "metadata": {},
   "outputs": [],
   "source": [
    "# packaging arguments together with function to create a new callable object\n",
    "from functools import partial\n",
    "\n",
    "\n",
    "def say_hi(name):\n",
    "    print(f\"hi {name}\")\n",
    "\n",
    "\n",
    "callable_ = partial(say_hi, \"John\") # an object which packs function + data\n",
    "print(type(callable_))\n",
    "\n",
    "callable_()"
   ]
  },
  {
   "cell_type": "code",
   "execution_count": null,
   "id": "cab281cf-8429-413a-a69b-8365a99ed53e",
   "metadata": {},
   "outputs": [],
   "source": [
    "# same thing, but for classes\n",
    "from functools import partialmethod\n",
    "\n",
    "\n",
    "class Greeter:\n",
    "    def __init__(self, name):\n",
    "        self.name = name\n",
    "\n",
    "    def say_hi(self, count, seperator=\"\\n\"):\n",
    "        # repeats the greeting 'count' times.\n",
    "        print(f\"hi {self.name} {seperator} \" * count)\n",
    "\n",
    "    greet_twice = partialmethod(say_hi, 2)\n",
    "\n",
    "\n",
    "greeter_obj = Greeter('John')\n",
    "print(type(greeter_obj.greet_twice))\n",
    "greeter_obj.greet_twice(seperator=\" ** \")"
   ]
  },
  {
   "cell_type": "code",
   "execution_count": null,
   "id": "91897b16-2a57-4347-aedd-c910c8c4d7dc",
   "metadata": {},
   "outputs": [],
   "source": [
    "# slice objects\n",
    "\n",
    "l = list(range(10))\n",
    "print(l)\n",
    "print(l[1:7:2]) # start: stop : step"
   ]
  },
  {
   "cell_type": "code",
   "execution_count": null,
   "id": "ebfbbc50-369e-4501-8b87-90dca84f6cea",
   "metadata": {},
   "outputs": [],
   "source": [
    "# suppose we need a slice object to pass around\n",
    "\n",
    "alternate_slice = slice(None, None, 2)\n",
    "# created a slice object above which packs together the slice arguments (start, stop and step) into a slice object\n",
    "\n",
    "def list_printer(l ,slice_obj):\n",
    "    print(l[slice_obj])\n",
    "\n",
    "list_printer(l, alternate_slice)"
   ]
  }
 ],
 "metadata": {
  "kernelspec": {
   "display_name": "Python 3 (ipykernel)",
   "language": "python",
   "name": "python3"
  },
  "language_info": {
   "codemirror_mode": {
    "name": "ipython",
    "version": 3
   },
   "file_extension": ".py",
   "mimetype": "text/x-python",
   "name": "python",
   "nbconvert_exporter": "python",
   "pygments_lexer": "ipython3",
   "version": "3.11.8"
  }
 },
 "nbformat": 4,
 "nbformat_minor": 5
}
